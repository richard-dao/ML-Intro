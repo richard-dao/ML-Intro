{
 "cells": [
  {
   "cell_type": "code",
   "execution_count": 2,
   "metadata": {},
   "outputs": [],
   "source": [
    "import pandas as pd\n",
    "from sklearn.ensemble import RandomForestRegressor\n",
    "from sklearn.metrics import mean_absolute_error\n",
    "from sklearn.model_selection import train_test_split"
   ]
  },
  {
   "cell_type": "code",
   "execution_count": 9,
   "metadata": {},
   "outputs": [
    {
     "name": "stdout",
     "output_type": "stream",
     "text": [
      "23093.063676581867\n"
     ]
    }
   ],
   "source": [
    "housing_data = pd.read_csv(r\"C:\\Users\\rdao2\\Desktop\\train.csv\")\n",
    "\n",
    "y = housing_data.SalePrice\n",
    "features = ['LotArea', 'YearBuilt', '1stFlrSF', '2ndFlrSF', 'FullBath', 'BedroomAbvGr', 'TotRmsAbvGrd']\n",
    "X = housing_data[features]\n",
    "\n",
    "train_X, val_X, train_y, val_y = train_test_split(X, y, random_state=0)\n",
    "\n",
    "forest_model = RandomForestRegressor(max_leaf_nodes=None, random_state=0)\n",
    "forest_model.fit(train_X, train_y)\n",
    "\n",
    "forest_model_predictions = forest_model.predict(val_X)\n",
    "print(mean_absolute_error(val_y, forest_model_predictions))"
   ]
  }
 ],
 "metadata": {
  "interpreter": {
   "hash": "98c5a73d3f78d0197924fff59ff450980b9398ec0b79d311aaf6e0c3e7a2c969"
  },
  "kernelspec": {
   "display_name": "Python 3.9.7 64-bit ('base': conda)",
   "language": "python",
   "name": "python3"
  },
  "language_info": {
   "codemirror_mode": {
    "name": "ipython",
    "version": 3
   },
   "file_extension": ".py",
   "mimetype": "text/x-python",
   "name": "python",
   "nbconvert_exporter": "python",
   "pygments_lexer": "ipython3",
   "version": "3.9.7"
  },
  "orig_nbformat": 4
 },
 "nbformat": 4,
 "nbformat_minor": 2
}
