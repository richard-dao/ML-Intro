{
 "cells": [
  {
   "cell_type": "code",
   "execution_count": 1,
   "metadata": {},
   "outputs": [],
   "source": [
    "import pandas as pd\n",
    "from sklearn.metrics import mean_absolute_error\n",
    "from sklearn.model_selection import train_test_split\n",
    "from sklearn.tree import DecisionTreeRegressor"
   ]
  },
  {
   "cell_type": "code",
   "execution_count": 8,
   "metadata": {},
   "outputs": [
    {
     "name": "stdout",
     "output_type": "stream",
     "text": [
      "[209133.65384615 146415.0075188  209133.65384615 ... 238763.63636364\n",
      " 125784.14285714 146415.0075188 ]\n"
     ]
    }
   ],
   "source": [
    "housing_data = pd.read_csv(r\"C:\\Users\\rdao2\\Desktop\\train.csv\")\n",
    "\n",
    "y = housing_data.SalePrice\n",
    "features = ['LotArea', 'YearBuilt', '1stFlrSF', '2ndFlrSF', 'FullBath', 'BedroomAbvGr', 'TotRmsAbvGrd'] # Include/exclude categories involved to predict house value\n",
    "X = housing_data[features]\n",
    "\n",
    "def get_mae(max_leaf, train_X, val_X, train_y, val_y):\n",
    "    model = DecisionTreeRegressor(max_leaf_nodes=max_leaf, random_state=0)\n",
    "    model.fit(train_X, train_y)\n",
    "    preds_val = model.predict(val_X)\n",
    "    mae = mean_absolute_error(val_y, preds_val)\n",
    "    return mae\n",
    "\n",
    "train_X, val_X, train_y, val_y = train_test_split(X, y, random_state=0)\n",
    "\n",
    "lowest_mae = None\n",
    "best_leaf_nodes = None\n",
    "\n",
    "for max_leaves in range(5, 5000):\n",
    "    candidate = get_mae(max_leaves, train_X, val_X, train_y, val_y)\n",
    "    if best_leaf_nodes == None or candidate < lowest_mae:\n",
    "        best_leaf_nodes = max_leaves\n",
    "        lowest_mae = candidate\n",
    "\n",
    "best_model = DecisionTreeRegressor(max_leaf_nodes=best_leaf_nodes, random_state=0)\n",
    "best_model.fit(X, y)\n",
    "\n",
    "best_model_predictions = best_model.predict(X) # Input actual data here\n",
    "print(best_model_predictions)\n",
    "\n"
   ]
  },
  {
   "cell_type": "code",
   "execution_count": null,
   "metadata": {},
   "outputs": [],
   "source": []
  }
 ],
 "metadata": {
  "interpreter": {
   "hash": "98c5a73d3f78d0197924fff59ff450980b9398ec0b79d311aaf6e0c3e7a2c969"
  },
  "kernelspec": {
   "display_name": "Python 3.9.7 64-bit ('base': conda)",
   "language": "python",
   "name": "python3"
  },
  "language_info": {
   "codemirror_mode": {
    "name": "ipython",
    "version": 3
   },
   "file_extension": ".py",
   "mimetype": "text/x-python",
   "name": "python",
   "nbconvert_exporter": "python",
   "pygments_lexer": "ipython3",
   "version": "3.9.7"
  },
  "orig_nbformat": 4
 },
 "nbformat": 4,
 "nbformat_minor": 2
}
